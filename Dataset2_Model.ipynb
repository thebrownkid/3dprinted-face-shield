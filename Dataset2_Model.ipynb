{
  "nbformat": 4,
  "nbformat_minor": 0,
  "metadata": {
    "colab": {
      "provenance": [],
      "authorship_tag": "ABX9TyNYC4KxPWWw9SwtBu1SSYQj",
      "include_colab_link": true
    },
    "kernelspec": {
      "name": "python3",
      "display_name": "Python 3"
    },
    "language_info": {
      "name": "python"
    }
  },
  "cells": [
    {
      "cell_type": "markdown",
      "metadata": {
        "id": "view-in-github",
        "colab_type": "text"
      },
      "source": [
        "<a href=\"https://colab.research.google.com/github/thebrownkid/3dprinted-face-shield/blob/master/Dataset2_Model.ipynb\" target=\"_parent\"><img src=\"https://colab.research.google.com/assets/colab-badge.svg\" alt=\"Open In Colab\"/></a>"
      ]
    },
    {
      "cell_type": "markdown",
      "source": [
        "###Muhammad Rakibul Islam\n",
        "\n",
        "**Language: Python**\n",
        "\n",
        "**ML Library: scikit-learn**\n",
        "\n",
        "**Original Dataset Source**: [The ISOT Fake News Dataset](https://onlineacademiccommunity.uvic.ca/isot/2022/11/27/fake-news-detection-datasets/) (University of Victoria); Downloaded from [Kaggle](https://www.kaggle.com/datasets/clmentbisaillon/fake-and-real-news-dataset?resource=download&select=True.csv).\n",
        "\n",
        "**Dataset Acknowledgements (acquired from source)**:\n",
        "\n",
        "1.   Ahmed H, Traore I, Saad S. “Detecting opinion spams and fake news using text classification”, Journal of Security and Privacy, Volume 1, Issue 1, Wiley, January/February 2018.\n",
        "2.   Ahmed H, Traore I, Saad S. (2017) “Detection of Online Fake News Using N-Gram Analysis and Machine Learning Techniques. In: Traore I., Woungang I., Awad A. (eds) Intelligent, Secure, and Dependable Systems in Distributed and Cloud Environments. ISDDC 2017. Lecture Notes in Computer Science, vol 10618. Springer, Cham (pp. 127-138).\n",
        "\n",
        "**Notebook Inspiration Acknowledgement**:\n",
        "\n",
        "This notebook has been adapted from a class notebook by [Professor Lisa Rhody](https://www.gc.cuny.edu/people/lisa-rhody) for the course \"Methods of Text Analysis\" taught at the CUNY Graduate Center.\n",
        "\n",
        "**Notebook Acknowledgement**:\n",
        "\n",
        "This notebook draws heavily from Chapter 6 of [**Blueprints for Text Analysis Using Python**](https://github.com/blueprints-for-text-analytics-python/blueprints-text)  \n",
        "Jens Albrecht, Sidharth Ramachandran, Christian Winkler."
      ],
      "metadata": {
        "id": "FawnEq5arCJ5"
      }
    },
    {
      "cell_type": "markdown",
      "source": [
        "#Dataset Pre-processing\n",
        "\n",
        "Notes to be Added Here"
      ],
      "metadata": {
        "id": "-J1VD2uCs43P"
      }
    },
    {
      "cell_type": "markdown",
      "source": [
        "To be added"
      ],
      "metadata": {
        "id": "KVbH2yKuueg9"
      }
    },
    {
      "cell_type": "code",
      "source": [
        "import sys, os\n",
        "ON_COLAB = 'google.colab' in sys.modules\n",
        "\n",
        "if ON_COLAB:\n",
        "    GIT_ROOT = 'https://github.com/blueprints-for-text-analytics-python/blueprints-text/raw/master'\n",
        "    os.system(f'wget {GIT_ROOT}/ch06/setup.py')\n",
        "\n",
        "%run -i setup.py"
      ],
      "metadata": {
        "colab": {
          "base_uri": "https://localhost:8080/"
        },
        "id": "I-MKfU9UvGKO",
        "outputId": "ddbe9584-05bb-41d2-910e-18948cbcf1fe"
      },
      "execution_count": null,
      "outputs": [
        {
          "output_type": "stream",
          "name": "stdout",
          "text": [
            "You are working on Google Colab.\n",
            "Files will be downloaded to \"/content\".\n",
            "Downloading required files ...\n",
            "!wget -P /content https://github.com/blueprints-for-text-analytics-python/blueprints-text/raw/master/settings.py\n",
            "!wget -P /content/data/jdt-bugs-dataset https://github.com/blueprints-for-text-analytics-python/blueprints-text/raw/master/data/jdt-bugs-dataset/eclipse_jdt.csv.gz\n",
            "!wget -P /content/packages/blueprints https://github.com/blueprints-for-text-analytics-python/blueprints-text/raw/master/packages/blueprints/preparation.py\n",
            "!wget -P /content/ch06 https://github.com/blueprints-for-text-analytics-python/blueprints-text/raw/master/ch06/requirements.txt\n",
            "\n",
            "Additional setup ...\n",
            "!pip install -r ch06/requirements.txt\n"
          ]
        }
      ]
    },
    {
      "cell_type": "markdown",
      "source": [
        "## Load Python Settings<div class=\"tocSkip\"/>"
      ],
      "metadata": {
        "id": "Yd4E_k0AMB39"
      }
    },
    {
      "cell_type": "code",
      "source": [
        "%run \"$BASE_DIR/settings.py\"\n",
        "\n",
        "%reload_ext autoreload\n",
        "%autoreload 2\n",
        "%config InlineBackend.figure_format = 'png'\n",
        "\n",
        "# to print output of all statements and not just the last\n",
        "from IPython.core.interactiveshell import InteractiveShell\n",
        "InteractiveShell.ast_node_interactivity = \"all\"\n",
        "\n",
        "# otherwise text between $ signs will be interpreted as formula and printed in italic\n",
        "pd.set_option('display.html.use_mathjax', False)\n",
        "\n",
        "# path to import blueprints packages\n",
        "sys.path.append(BASE_DIR + '/packages')"
      ],
      "metadata": {
        "id": "4Tw5SWylLC2V"
      },
      "execution_count": null,
      "outputs": []
    },
    {
      "cell_type": "code",
      "source": [
        "import matplotlib.pyplot as plt\n",
        "import html\n",
        "import re\n",
        "from sklearn.model_selection import train_test_split\n",
        "from sklearn.feature_extraction.text import TfidfVectorizer\n",
        "from sklearn.svm import SVC\n",
        "from sklearn.metrics import accuracy_score\n",
        "from sklearn.metrics import confusion_matrix\n",
        "from sklearn.metrics import classification_report\n",
        "## Depracated:\n",
        "# from sklearn.metrics import plot_confusion_matrix\n",
        "## New version:\n",
        "from sklearn.metrics import ConfusionMatrixDisplay\n",
        "from sklearn.model_selection import cross_val_score\n",
        "from sklearn.pipeline import Pipeline\n",
        "from sklearn.model_selection import GridSearchCV\n",
        "from sklearn.svm import LinearSVC\n",
        "from sklearn.dummy import DummyClassifier\n",
        "from blueprints.preparation import clean"
      ],
      "metadata": {
        "id": "nd8yUBG7MSpd"
      },
      "execution_count": null,
      "outputs": []
    },
    {
      "cell_type": "markdown",
      "source": [
        "##Mounting Google Drive"
      ],
      "metadata": {
        "id": "e6YzjWtCMKG9"
      }
    },
    {
      "cell_type": "code",
      "source": [
        "from google.colab import drive\n",
        "\n",
        "# Mount Google Drive\n",
        "drive.mount('/content/drive')"
      ],
      "metadata": {
        "colab": {
          "base_uri": "https://localhost:8080/"
        },
        "id": "jsFcIn0VM34d",
        "outputId": "7f0b0e9f-d7f0-4404-a5ce-2f1389dd36e8"
      },
      "execution_count": null,
      "outputs": [
        {
          "output_type": "stream",
          "name": "stdout",
          "text": [
            "Mounted at /content/drive\n"
          ]
        }
      ]
    },
    {
      "cell_type": "code",
      "source": [
        "# Path to the CSV file on Google Drive\n",
        "file_path = '/content/drive/MyDrive/Data71200/CapstoneDatasets/Dataset2.csv'\n",
        "\n",
        "# Read the CSV file into a DataFrame\n",
        "df = pd.read_csv(file_path)\n",
        "\n",
        "# Print column names\n",
        "print(df.columns)\n",
        "\n",
        "# Select specific columns from the DataFrame\n",
        "selected_columns = ['text', 'category']\n",
        "selected_data = df[selected_columns].sample(2, random_state=42)\n",
        "\n",
        "# Print the selected data\n",
        "print(selected_data)"
      ],
      "metadata": {
        "colab": {
          "base_uri": "https://localhost:8080/"
        },
        "id": "dJ2wXNuYNSks",
        "outputId": "ba526d42-3ede-4cc9-bee6-91f43b727021"
      },
      "execution_count": null,
      "outputs": [
        {
          "output_type": "stream",
          "name": "stdout",
          "text": [
            "Index(['text', 'category', 'news_source'], dtype='object')\n",
            "                                                                                                                                                                                                          text  \\\n",
            "11941  The election is Tuesday. So it s time to make my final case for Donald J. Trump. My case is pretty simple   it s Trump or it s the end of America.I was raised as a middle-class kid in the greatest...   \n",
            "30652  Updated at 1 p. m. ET, North Korea has released American college student Otto Warmbier, who is on his way back to the U. S. and won‚Äôt be forced to serve a   prison term, according to Secretary o...   \n",
            "\n",
            "      category  \n",
            "11941     fake  \n",
            "30652     TRUE  \n"
          ]
        }
      ]
    },
    {
      "cell_type": "code",
      "source": [
        "# Remove duplicates from \"title\" column\n",
        "#df = df.drop_duplicates(subset=['title'])\n",
        "\n",
        "# Remove duplicates from \"text\" column\n",
        "df = df.drop_duplicates(subset=['text'])\n",
        "\n",
        "# Verify the resulting DataFrame\n",
        "print(df.head())"
      ],
      "metadata": {
        "colab": {
          "base_uri": "https://localhost:8080/"
        },
        "id": "BDFUTxQ1Ofrd",
        "outputId": "d45ec192-3626-49e3-d40a-7b38ba99b566"
      },
      "execution_count": null,
      "outputs": [
        {
          "output_type": "stream",
          "name": "stdout",
          "text": [
            "                                                                                                                                                                                                      text  \\\n",
            "0      (Welcome) to America We hope you enjoy our benefits. Please feel free to NOT assimilate  Coming soon: Press 1 for English, 2 for Spanish and 3 for Arabic The Obama Administration is on pace to...   \n",
            "1     Delta Air Lines and Bank of America became the first companies to announce they are pulling their sponsorships of a Manhattan-based theater company s portrayal of Julius Caesar as a Donald Trum...   \n",
            "2     #PresidentElectTrumpABSOLUTELY MUST WATCHToday there is hope for the American people.We will #MakeAmericaGreatAgainPlease RT pic.twitter.com/WSbpcKr8np  Brian Fraser (@bfraser747) November 9, 2016   \n",
            "3    Episode #174 of SUNDAY WIRE SHOW resumes this February 19, 2017 as host Hesher brings you this week s special LIVE broadcast on the Alternate Current Radio Network LISTEN LIVE ON THIS PAGE AT TH...   \n",
            "4                                                                                                                                                              https://www.youtube.com/watch?v=yRXmFmgoPTk   \n",
            "\n",
            "  category news_source  \n",
            "0     fake   ISOT_Fake  \n",
            "1     fake   ISOT_Fake  \n",
            "2     fake   ISOT_Fake  \n",
            "3     fake   ISOT_Fake  \n",
            "4     fake   ISOT_Fake  \n"
          ]
        }
      ]
    },
    {
      "cell_type": "code",
      "source": [
        "# Check the number of rows remaining\n",
        "num_rows = df.shape[0]\n",
        "print(\"Number of rows remaining:\", num_rows)"
      ],
      "metadata": {
        "colab": {
          "base_uri": "https://localhost:8080/"
        },
        "id": "0-abg-PFO2WZ",
        "outputId": "701a4acd-d388-4b22-f4fd-0c53d7e24018"
      },
      "execution_count": null,
      "outputs": [
        {
          "output_type": "stream",
          "name": "stdout",
          "text": [
            "Number of rows remaining: 32286\n"
          ]
        }
      ]
    },
    {
      "cell_type": "code",
      "source": [
        "# let's see the breakdown of the \"category\" column and draw a bar chart to see\n",
        "df['category'].value_counts()\n",
        "df['category'].value_counts().sort_index().plot(kind='bar')"
      ],
      "metadata": {
        "colab": {
          "base_uri": "https://localhost:8080/",
          "height": 467
        },
        "id": "HzY1-wYSPiUp",
        "outputId": "097938d3-a09b-4a4d-bc42-e2d09ec89702"
      },
      "execution_count": null,
      "outputs": [
        {
          "output_type": "execute_result",
          "data": {
            "text/plain": [
              "fake    16252\n",
              "TRUE    16033\n",
              "Name: category, dtype: int64"
            ]
          },
          "metadata": {},
          "execution_count": 8
        },
        {
          "output_type": "execute_result",
          "data": {
            "text/plain": [
              "<Axes: >"
            ]
          },
          "metadata": {},
          "execution_count": 8
        },
        {
          "output_type": "display_data",
          "data": {
            "text/plain": [
              "<Figure size 800x400 with 1 Axes>"
            ],
            "image/png": "[encoded data removed]"
          },
          "metadata": {}
        }
      ]
    },
    {
      "cell_type": "markdown",
      "source": [
        "## For our ease, we will combine the title and text columns into a new combined column"
      ],
      "metadata": {
        "id": "xx8MzHUiPhMs"
      }
    },
    {
      "cell_type": "code",
      "source": [
        "#df = df[['title','text','category']]\n",
        "#df = df.dropna()\n",
        "#df['combined_text'] = df['title'] + ' ' + df['text']\n",
        "#df = df.drop(columns=['title','text'])\n",
        "#df.columns"
      ],
      "metadata": {
        "id": "XzWahwIwQLme"
      },
      "execution_count": null,
      "outputs": []
    },
    {
      "cell_type": "code",
      "source": [
        "from blueprints.preparation import clean\n",
        "df = df.dropna(subset=['text'])\n",
        "df = df[df['text'].apply(lambda x: isinstance(x, str))]\n",
        "df['text'] = df['text'].apply(clean)\n",
        "df.sample(2, random_state=0)"
      ],
      "metadata": {
        "colab": {
          "base_uri": "https://localhost:8080/",
          "height": 145
        },
        "id": "IYXzPrQuQud5",
        "outputId": "3e12530b-0c63-4d03-ee7a-ad1b85ffea5b"
      },
      "execution_count": null,
      "outputs": [
        {
          "output_type": "execute_result",
          "data": {
            "text/plain": [
              "                                                                                                                                                                                                          text  \\\n",
              "23803  WASHINGTON ‚Äî Picking themselves up after the bruising collapse of their health care plan, President Trump and Republicans in Congress will start this week on a legislative obstacle course that w...   \n",
              "22727  Damien Chazelle, the writer and director of the musical ‚ÄúLa La Land,‚Äù never had any doubts about Los Angeles as an artistic canvas. From the film‚Äôs opening, with commuters dancing and singin...   \n",
              "\n",
              "      category     news_source  \n",
              "23803     TRUE  New York Times  \n",
              "22727     TRUE  New York Times  "
            ],
            "text/html": [
              "\n",
              "  <div id=\"df-9067c80d-7990-4e74-b671-0c65e375c001\" class=\"colab-df-container\">\n",
              "    <div>\n",
              "<style scoped>\n",
              "    .dataframe tbody tr th:only-of-type {\n",
              "        vertical-align: middle;\n",
              "    }\n",
              "\n",
              "    .dataframe tbody tr th {\n",
              "        vertical-align: top;\n",
              "    }\n",
              "\n",
              "    .dataframe thead th {\n",
              "        text-align: right;\n",
              "    }\n",
              "</style>\n",
              "<table border=\"1\" class=\"dataframe tex2jax_ignore\">\n",
              "  <thead>\n",
              "    <tr style=\"text-align: right;\">\n",
              "      <th></th>\n",
              "      <th>text</th>\n",
              "      <th>category</th>\n",
              "      <th>news_source</th>\n",
              "    </tr>\n",
              "  </thead>\n",
              "  <tbody>\n",
              "    <tr>\n",
              "      <th>23803</th>\n",
              "      <td>WASHINGTON ‚Äî Picking themselves up after the bruising collapse of their health care plan, President Trump and Republicans in Congress will start this week on a legislative obstacle course that w...</td>\n",
              "      <td>TRUE</td>\n",
              "      <td>New York Times</td>\n",
              "    </tr>\n",
              "    <tr>\n",
              "      <th>22727</th>\n",
              "      <td>Damien Chazelle, the writer and director of the musical ‚ÄúLa La Land,‚Äù never had any doubts about Los Angeles as an artistic canvas. From the film‚Äôs opening, with commuters dancing and singin...</td>\n",
              "      <td>TRUE</td>\n",
              "      <td>New York Times</td>\n",
              "    </tr>\n",
              "  </tbody>\n",
              "</table>\n",
              "</div>\n",
              "    <div class=\"colab-df-buttons\">\n",
              "\n",
              "  <div class=\"colab-df-container\">\n",
              "    <button class=\"colab-df-convert\" onclick=\"convertToInteractive('df-9067c80d-7990-4e74-b671-0c65e375c001')\"\n",
              "            title=\"Convert this dataframe to an interactive table.\"\n",
              "            style=\"display:none;\">\n",
              "\n",
              "  <svg xmlns=\"http://www.w3.org/2000/svg\" height=\"24px\" viewBox=\"0 -960 960 960\">\n",
              "    <path d=\"M120-120v-720h720v720H120Zm60-500h600v-160H180v160Zm220 220h160v-160H400v160Zm0 220h160v-160H400v160ZM180-400h160v-160H180v160Zm440 0h160v-160H620v160ZM180-180h160v-160H180v160Zm440 0h160v-160H620v160Z\"/>\n",
              "  </svg>\n",
              "    </button>\n",
              "\n",
              "  <style>\n",
              "    .colab-df-container {\n",
              "      display:flex;\n",
              "      gap: 12px;\n",
              "    }\n",
              "\n",
              "    .colab-df-convert {\n",
              "      background-color: #E8F0FE;\n",
              "      border: none;\n",
              "      border-radius: 50%;\n",
              "      cursor: pointer;\n",
              "      display: none;\n",
              "      fill: #1967D2;\n",
              "      height: 32px;\n",
              "      padding: 0 0 0 0;\n",
              "      width: 32px;\n",
              "    }\n",
              "\n",
              "    .colab-df-convert:hover {\n",
              "      background-color: #E2EBFA;\n",
              "      box-shadow: 0px 1px 2px rgba(60, 64, 67, 0.3), 0px 1px 3px 1px rgba(60, 64, 67, 0.15);\n",
              "      fill: #174EA6;\n",
              "    }\n",
              "\n",
              "    .colab-df-buttons div {\n",
              "      margin-bottom: 4px;\n",
              "    }\n",
              "\n",
              "    [theme=dark] .colab-df-convert {\n",
              "      background-color: #3B4455;\n",
              "      fill: #D2E3FC;\n",
              "    }\n",
              "\n",
              "    [theme=dark] .colab-df-convert:hover {\n",
              "      background-color: #434B5C;\n",
              "      box-shadow: 0px 1px 3px 1px rgba(0, 0, 0, 0.15);\n",
              "      filter: drop-shadow(0px 1px 2px rgba(0, 0, 0, 0.3));\n",
              "      fill: #FFFFFF;\n",
              "    }\n",
              "  </style>\n",
              "\n",
              "    <script>\n",
              "      const buttonEl =\n",
              "        document.querySelector('#df-9067c80d-7990-4e74-b671-0c65e375c001 button.colab-df-convert');\n",
              "      buttonEl.style.display =\n",
              "        google.colab.kernel.accessAllowed ? 'block' : 'none';\n",
              "\n",
              "      async function convertToInteractive(key) {\n",
              "        const element = document.querySelector('#df-9067c80d-7990-4e74-b671-0c65e375c001');\n",
              "        const dataTable =\n",
              "          await google.colab.kernel.invokeFunction('convertToInteractive',\n",
              "                                                    [key], {});\n",
              "        if (!dataTable) return;\n",
              "\n",
              "        const docLinkHtml = 'Like what you see? Visit the ' +\n",
              "          '<a target=\"_blank\" href=https://colab.research.google.com/notebooks/data_table.ipynb>data table notebook</a>'\n",
              "          + ' to learn more about interactive tables.';\n",
              "        element.innerHTML = '';\n",
              "        dataTable['output_type'] = 'display_data';\n",
              "        await google.colab.output.renderOutput(dataTable, element);\n",
              "        const docLink = document.createElement('div');\n",
              "        docLink.innerHTML = docLinkHtml;\n",
              "        element.appendChild(docLink);\n",
              "      }\n",
              "    </script>\n",
              "  </div>\n",
              "\n",
              "\n",
              "<div id=\"df-4262f847-949e-42ec-9314-9ba6a9b4205e\">\n",
              "  <button class=\"colab-df-quickchart\" onclick=\"quickchart('df-4262f847-949e-42ec-9314-9ba6a9b4205e')\"\n",
              "            title=\"Suggest charts\"\n",
              "            style=\"display:none;\">\n",
              "\n",
              "<svg xmlns=\"http://www.w3.org/2000/svg\" height=\"24px\"viewBox=\"0 0 24 24\"\n",
              "     width=\"24px\">\n",
              "    <g>\n",
              "        <path d=\"M19 3H5c-1.1 0-2 .9-2 2v14c0 1.1.9 2 2 2h14c1.1 0 2-.9 2-2V5c0-1.1-.9-2-2-2zM9 17H7v-7h2v7zm4 0h-2V7h2v10zm4 0h-2v-4h2v4z\"/>\n",
              "    </g>\n",
              "</svg>\n",
              "  </button>\n",
              "\n",
              "<style>\n",
              "  .colab-df-quickchart {\n",
              "      --bg-color: #E8F0FE;\n",
              "      --fill-color: #1967D2;\n",
              "      --hover-bg-color: #E2EBFA;\n",
              "      --hover-fill-color: #174EA6;\n",
              "      --disabled-fill-color: #AAA;\n",
              "      --disabled-bg-color: #DDD;\n",
              "  }\n",
              "\n",
              "  [theme=dark] .colab-df-quickchart {\n",
              "      --bg-color: #3B4455;\n",
              "      --fill-color: #D2E3FC;\n",
              "      --hover-bg-color: #434B5C;\n",
              "      --hover-fill-color: #FFFFFF;\n",
              "      --disabled-bg-color: #3B4455;\n",
              "      --disabled-fill-color: #666;\n",
              "  }\n",
              "\n",
              "  .colab-df-quickchart {\n",
              "    background-color: var(--bg-color);\n",
              "    border: none;\n",
              "    border-radius: 50%;\n",
              "    cursor: pointer;\n",
              "    display: none;\n",
              "    fill: var(--fill-color);\n",
              "    height: 32px;\n",
              "    padding: 0;\n",
              "    width: 32px;\n",
              "  }\n",
              "\n",
              "  .colab-df-quickchart:hover {\n",
              "    background-color: var(--hover-bg-color);\n",
              "    box-shadow: 0 1px 2px rgba(60, 64, 67, 0.3), 0 1px 3px 1px rgba(60, 64, 67, 0.15);\n",
              "    fill: var(--button-hover-fill-color);\n",
              "  }\n",
              "\n",
              "  .colab-df-quickchart-complete:disabled,\n",
              "  .colab-df-quickchart-complete:disabled:hover {\n",
              "    background-color: var(--disabled-bg-color);\n",
              "    fill: var(--disabled-fill-color);\n",
              "    box-shadow: none;\n",
              "  }\n",
              "\n",
              "  .colab-df-spinner {\n",
              "    border: 2px solid var(--fill-color);\n",
              "    border-color: transparent;\n",
              "    border-bottom-color: var(--fill-color);\n",
              "    animation:\n",
              "      spin 1s steps(1) infinite;\n",
              "  }\n",
              "\n",
              "  @keyframes spin {\n",
              "    0% {\n",
              "      border-color: transparent;\n",
              "      border-bottom-color: var(--fill-color);\n",
              "      border-left-color: var(--fill-color);\n",
              "    }\n",
              "    20% {\n",
              "      border-color: transparent;\n",
              "      border-left-color: var(--fill-color);\n",
              "      border-top-color: var(--fill-color);\n",
              "    }\n",
              "    30% {\n",
              "      border-color: transparent;\n",
              "      border-left-color: var(--fill-color);\n",
              "      border-top-color: var(--fill-color);\n",
              "      border-right-color: var(--fill-color);\n",
              "    }\n",
              "    40% {\n",
              "      border-color: transparent;\n",
              "      border-right-color: var(--fill-color);\n",
              "      border-top-color: var(--fill-color);\n",
              "    }\n",
              "    60% {\n",
              "      border-color: transparent;\n",
              "      border-right-color: var(--fill-color);\n",
              "    }\n",
              "    80% {\n",
              "      border-color: transparent;\n",
              "      border-right-color: var(--fill-color);\n",
              "      border-bottom-color: var(--fill-color);\n",
              "    }\n",
              "    90% {\n",
              "      border-color: transparent;\n",
              "      border-bottom-color: var(--fill-color);\n",
              "    }\n",
              "  }\n",
              "</style>\n",
              "\n",
              "  <script>\n",
              "    async function quickchart(key) {\n",
              "      const quickchartButtonEl =\n",
              "        document.querySelector('#' + key + ' button');\n",
              "      quickchartButtonEl.disabled = true;  // To prevent multiple clicks.\n",
              "      quickchartButtonEl.classList.add('colab-df-spinner');\n",
              "      try {\n",
              "        const charts = await google.colab.kernel.invokeFunction(\n",
              "            'suggestCharts', [key], {});\n",
              "      } catch (error) {\n",
              "        console.error('Error during call to suggestCharts:', error);\n",
              "      }\n",
              "      quickchartButtonEl.classList.remove('colab-df-spinner');\n",
              "      quickchartButtonEl.classList.add('colab-df-quickchart-complete');\n",
              "    }\n",
              "    (() => {\n",
              "      let quickchartButtonEl =\n",
              "        document.querySelector('#df-4262f847-949e-42ec-9314-9ba6a9b4205e button');\n",
              "      quickchartButtonEl.style.display =\n",
              "        google.colab.kernel.accessAllowed ? 'block' : 'none';\n",
              "    })();\n",
              "  </script>\n",
              "</div>\n",
              "\n",
              "    </div>\n",
              "  </div>\n"
            ],
            "application/vnd.google.colaboratory.intrinsic+json": {
              "type": "dataframe",
              "summary": "{\n  \"name\": \"df\",\n  \"rows\": 2,\n  \"fields\": [\n    {\n      \"column\": \"text\",\n      \"properties\": {\n        \"dtype\": \"string\",\n        \"num_unique_values\": 2,\n        \"samples\": [\n          \"Damien Chazelle, the writer and director of the musical \\u201a\\u00c4\\u00faLa La Land,\\u201a\\u00c4\\u00f9 never had any doubts about Los Angeles as an artistic canvas. From the film\\u201a\\u00c4\\u00f4s opening, with commuters dancing and singing on a congested freeway exit ramp, to the visually stunning final sequence, the city is depicted as a place where dreamers may struggle but where optimism also abounds. Growing up in New Jersey, Mr. Chazelle said, \\u201a\\u00c4\\u00faI had some negative conceptions of Los Angeles, but I was willing to try something other than the East Coast because I wanted to do movies. \\u201a\\u00c4\\u00f9 He added: \\u201a\\u00c4\\u00faFor a few years, there were ups and downs, but I slowly became smitten. I had never lived in a city with palm trees, and now I\\u201a\\u00c4\\u00f4ve been here for almost nine and a half years. \\u201a\\u00c4\\u00f9 His debut directorial film, \\u201a\\u00c4\\u00faGuy and Madeline on a Park Bench,\\u201a\\u00c4\\u00f9 was first shown in 2009, followed by the drama \\u201a\\u00c4\\u00faWhiplash\\u201a\\u00c4\\u00f9 in 2014. Mr. Chazelle, who recently won the 2016 Golden Globe Award for best director for \\u201a\\u00c4\\u00faLa La Land,\\u201a\\u00c4\\u00f9 recently discussed his current film, Los Angeles and some of his travel forays. Below are edited excerpts from that conversation. Q. In famously Southern California, what logistical issues did you face with the opening scene of \\u201a\\u00c4\\u00faLa La Land\\u201a\\u00c4\\u00f9? A. After searching for a filming location, we decided on the FasTrak ramp that connects Interstate 105 to Interstate 110, since it would be easier for the city to shut down. We rehearsed in parking lots, and were able to shut down the ramp to film on a Saturday and a Sunday. On both days, there was a heat wave. In the film, Mia and Sebastian, played by Emma Stone and Ryan Gosling, visit the beloved Griffith Observatory. What was it like to shoot there? We were able to film there on a Monday, which is the only day that they\\u201a\\u00c4\\u00f4re closed, but you can\\u201a\\u00c4\\u00f4t change or touch anything. Filming isn\\u201a\\u00c4\\u00f4t allowed in the planetarium at the Griffith, so professional designers built a replica of the actual planetarium on a sound stage. However, we could light the Observatory on the outside. What\\u201a\\u00c4\\u00f4s the story behind the Rialto Theater in South Pasadena, where Mia and Sebastian watch the James Dean classic \\u201a\\u00c4\\u00faRebel Without a Cause\\u201a\\u00c4\\u00f9? The theater is used for special events, but it hasn\\u201a\\u00c4\\u00f4t been a functioning commercial movie theater in a while. It\\u201a\\u00c4\\u00f4s a beautiful old structure, inside and outside. What led you to film in nearby Pasadena? Pasadena is really wonderful. The city is one the best places for architecture in the Los Angeles area since so much has been preserved there. The Colorado Street Bridge is one of those places. There are also the homes of silent movie stars. Pasadena seemed far away from where I was living. What has traveling been like since you\\u201a\\u00c4\\u00f4ve been promoting the movie internationally? There\\u201a\\u00c4\\u00f4s been a fair amount of travel. I\\u201a\\u00c4\\u00f4ve had a mini East Asia tour the film opens in China and Japan in February. I\\u201a\\u00c4\\u00f4d never been to Japan and had been dying to go there forever. My father is French, so I have a lot of relatives in Paris and France, which is nice. France is like a third home. When you\\u201a\\u00c4\\u00f4re headed out of town, what do you usually bring? Ever since I was a kid, I have been fond of long train trips. I like the idea of forced sitting time. I always bring a couple of books and headphones, and weigh down a backpack. If I have something to read and music to listen to, I\\u201a\\u00c4\\u00f4m fine.\",\n          \"WASHINGTON \\u201a\\u00c4\\u00ee Picking themselves up after the bruising collapse of their health care plan, President Trump and Republicans in Congress will start this week on a legislative obstacle course that will be even more arduous: the first overhaul of the tax code in three decades. Mr. Trump\\u201a\\u00c4\\u00f4s inability to make good on his promise to repeal the Affordable Care Act has made the already daunting challenge of tax reform even more difficult. Not only has Mr. Trump\\u201a\\u00c4\\u00f4s aura of political invincibility been shattered, but without killing the Affordable Care Act, Republicans will be unable to rewrite the tax code in the sweeping fashion that the president has called for. The grand plans of lower rates, fewer loopholes and a tax on imports may have to be scaled back to a big corporate tax cut and possibly an individual tax cut. A lot of people think Mr. Trump might go for this to get an easy win. \\u201a\\u00c4\\u00faThey have to have a victory here,\\u201a\\u00c4\\u00f9 said Stephen Moore, a Heritage Foundation economist who advised Mr. Trump during the presidential campaign. \\u201a\\u00c4\\u00faBut it is going to have to be a bit less ambitious rather than going for the big bang. \\u201a\\u00c4\\u00f9 Because of the arcane rules of lawmaking in Congress, there may be little choice. If Republicans intend to act again without the help of Democrats, they will need to use a procedure called budget reconciliation to have the Senate pass tax legislation with a simple majority. To make their changes to the tax code permanent, their plans cannot add to deficits over a period of 10 years. Eliminating the $1 trillion of Affordable Care Act taxes and the federal spending associated with that law would have made this easier. Because they failed, Republicans will struggle to reach their goal of cutting corporate tax rates without piling on debt. Speaker Paul D. Ryan acknowledged on Friday, \\u201a\\u00c4\\u00faThis does make tax reform more difficult. \\u201a\\u00c4\\u00f9 Under pressure to get something done, some Republican deficit hawks appear ready to abandon the fiscal rectitude that they embraced during the Obama administration to help salvage Mr. Trump\\u201a\\u00c4\\u00f4s agenda. In a rare shift, Representative Mark Meadows of North Carolina, whose House Freedom Caucus effectively torpedoed the health legislation, said Sunday on ABC\\u201a\\u00c4\\u00f4s \\u201a\\u00c4\\u00faThis Week\\u201a\\u00c4\\u00f9 that he would not protest if tax cuts were not offset by new spending cuts or new streams of revenue, such as an import tax. \\u201a\\u00c4\\u00faI think there\\u201a\\u00c4\\u00f4s a lot of flexibility in terms of some of my contacts and conservatives in terms of not making it totally offset,\\u201a\\u00c4\\u00f9 he said. \\u201a\\u00c4\\u00faDoes it have to be fully offset? My personal response is no. \\u201a\\u00c4\\u00f9 The health care failure also makes the tax overhaul more politically complex as the fissures within the Republican Party have been laid bare. Mr. Trump followed Mr. Ryan\\u201a\\u00c4\\u00f4s lead and lost, making it more likely that the White House will try to steer the direction of tax legislation. \\u201a\\u00c4\\u00faI would be surprised given the health law debacle if the Trump administration sits back and lets Congress fashion the legislation without weighing in on the substance,\\u201a\\u00c4\\u00f9 said Michael J. Graetz, a tax law professor at Columbia University. \\u201a\\u00c4\\u00faThat is one of the lessons that the administration will take from the failure of the health bill. \\u201a\\u00c4\\u00f9 It remains unclear whether Mr. Trump and Mr. Ryan are in agreement on taxes. Since last summer, Mr. Ryan and Representative Kevin Brady of Texas, the chairman of the Ways and Means Committee, have been aggressively pitching a reform blueprint that includes a \\u201a\\u00c4\\u00faborder adjustment tax. \\u201a\\u00c4\\u00f9 It would be a 20 percent tax on imports that, by making imports more expensive, would spur domestic production, they say. They think the plan would raise $1 trillion to compensate for the lower revenue that much lower tax rates would probably bring in. Mr. Ryan and Mr. Brady are unlikely to simply hand over tax policy to the White House. Mr. Brady said on Sunday that getting rid of the contentious border tax provision would have \\u201a\\u00c4\\u00fasevere consequences\\u201a\\u00c4\\u00f9 and that he hoped to produce a bill based on the House plan this spring that would be passed later this year. Mr. Brady\\u201a\\u00c4\\u00f4s committee is expected to convene a meeting about an overhaul on Tuesday. \\u201a\\u00c4\\u00faWe have so much in common with the Trump administration, it wouldn\\u201a\\u00c4\\u00f4t make sense to have a separate tax bill from Secretary Mnuchin, a separate one from Gary Cohn, a third from whomever,\\u201a\\u00c4\\u00f9 Mr. Brady said on Fox News, referring to the Treasury secretary, Steven T. Mnuchin, and to one of Mr. Trump\\u201a\\u00c4\\u00f4s top economic advisers. \\u201a\\u00c4\\u00faWhy not take the basis of the House plan?\\u201a\\u00c4\\u00f9 Changing the tax code affects every person and industry. Lobbyists are already hoping to shape tax legislation. As plans become more concrete, business groups will be ready to pick them apart. Mr. Trump has at times expressed admiration for some form of border tax as a way to give an advantage to American producers. However, facing a backlash from retailers, energy companies and conservative think tanks that warn that consumer prices will soar under the House Republican plan, Mr. Trump and Mr. Mnuchin have sounded cool to the idea. Many Senate Republicans are also skeptical, raising the prospect that Mr. Ryan\\u201a\\u00c4\\u00f4s tax vision could suffer the same fate as his health plan, toppling under the weight of divisions within his party. If Mr. Trump does try to go his own way, he could propose a tax cut plan that disregards deficits and assumes that robust economic growth will make up for lost revenue. Another idea would be reforming taxes in pieces, with a focus on reducing business tax rates first and then addressing tax rates for individuals later. Or, as Mr. Moore advises, he could try to make a grand bargain with Democrats that combines a tax overhaul with a plan for more infrastructure spending. Mr. Trump is under added pressure not to again fail supporters who he promised would \\u201a\\u00c4\\u00faget sick of all the winning. \\u201a\\u00c4\\u00f9 \\u201a\\u00c4\\u00faThey need to cut taxes, cut spending, and build the wall,\\u201a\\u00c4\\u00f9 said Judson Phillips, the founder of the conservative group Tea Party Nation. \\u201a\\u00c4\\u00faIf they will do that, the base will be forever in love with them. \\u201a\\u00c4\\u00f9 He said he did not want Mr. Trump to get bogged down in Mr. Ryan\\u201a\\u00c4\\u00f4s complicated tax agenda. But after consuming the first two months of his presidency focused on health care, it is unclear how prepared Mr. Trump and his administration are to tackle taxes. The administration said last month that its tax plan was just weeks away, but nothing materialized. And the Treasury Department, which will take a leading role in crafting a plan, remains understaffed, with crucial policy positions unfilled and most of its leadership still awaiting Senate confirmation. Mr. Mnuchin said last week that he was ready to get going, predicting that a tax overhaul would be simpler than health care. The fact that no one has seriously tackled tax reform since 1986 suggests otherwise. \\u201a\\u00c4\\u00faIt\\u201a\\u00c4\\u00f4s like asking whether climbing Kilimanjaro or another mountain of equal height is harder,\\u201a\\u00c4\\u00f9 said Mr. Graetz, who was a Treasury Department official in the early 1990s. \\u201a\\u00c4\\u00faThey are both very hard, very exhausting and seem to occur once in a generation. \\u201a\\u00c4\\u00f9\"\n        ],\n        \"semantic_type\": \"\",\n        \"description\": \"\"\n      }\n    },\n    {\n      \"column\": \"category\",\n      \"properties\": {\n        \"dtype\": \"string\",\n        \"num_unique_values\": 1,\n        \"samples\": [\n          \"TRUE\"\n        ],\n        \"semantic_type\": \"\",\n        \"description\": \"\"\n      }\n    },\n    {\n      \"column\": \"news_source\",\n      \"properties\": {\n        \"dtype\": \"string\",\n        \"num_unique_values\": 1,\n        \"samples\": [\n          \"New York Times\"\n        ],\n        \"semantic_type\": \"\",\n        \"description\": \"\"\n      }\n    }\n  ]\n}"
            }
          },
          "metadata": {},
          "execution_count": 12
        }
      ]
    },
    {
      "cell_type": "code",
      "source": [
        "# Extract the name column\n",
        "name_column = df.iloc[0]\n",
        "\n",
        "# Randomize the rows while excluding the name column\n",
        "randomized_df = df.iloc[1:].sample(frac=1, random_state=42).reset_index(drop=True)\n",
        "\n",
        "# Concatenate the name column back to the randomized DataFrame\n",
        "randomized_df = pd.concat([name_column.to_frame().T, randomized_df])\n",
        "\n",
        "# Print the randomized DataFrame\n",
        "print(randomized_df)"
      ],
      "metadata": {
        "colab": {
          "base_uri": "https://localhost:8080/"
        },
        "id": "iQAnU--cSQ-B",
        "outputId": "00a34ce5-3be4-48d8-99a9-021980bf8782"
      },
      "execution_count": null,
      "outputs": [
        {
          "output_type": "stream",
          "name": "stdout",
          "text": [
            "                                                                                                                                                                                                          text  \\\n",
            "0      (Welcome) to America We hope you enjoy our benefits. Please feel free to NOT assimilate Coming soon: Press 1 for English, 2 for Spanish and 3 for Arabic The Obama Administration is on pace to issu...   \n",
            "0      WASHINGTON (Reuters) U.S. Senator Bob Corker, the influential Republican chairman of the Senate Foreign Relations Committee, said on Tuesday he will not run for re-election, a blow to a party alre...   \n",
            "1      White House officials are now saying Trump won t make a trip to England this summer after a hurried, secret plan to sneak the president into the country was leaked to the English press causing wid...   \n",
            "2      BEIRUT (Reuters) An air strike carried out by an unidentified warplane killed seven Hezbollah fighters in eastern Syria, three sources familiar with the incident told Reuters on Monday. The identi...   \n",
            "3      WASHINGTON (Reuters) U.S. Senator Chris Coons, a Democrat on the Senate Judiciary Committee, said on Wednesday the panel should hold hearings on Supreme Court nominee Neil Gorsuch but that Democra...   \n",
            "...                                                                                                                                                                                                        ...   \n",
            "32279  On Friday, two different streaming services present the first seasons of new drama series. Both are based on novels written by women, both have female characters squarely at their center ‚Äî and b...   \n",
            "32280  Hillary Clinton has a much better run campaign than Donald Trump does. She has a ground game, and get out the vote operation, and she also has voter targeting and demographics on her side. However...   \n",
            "32281  21st Century Wire says The Washington Post has been caught lying and deceiving the public twice in the last few weeks pushing the unfounded mainstream media meme that Russia invaded the U.S. elect...   \n",
            "32282  With all the anger and nasty comments coming from Mika and Joe of MSNBC, the video below makes you wonder if the nasty Mika is just an act Ya think? These two media wh*res couldn t be happier that...   \n",
            "32283  Ruben Blancovich, at age 11, knew nothing about the man who came to his family‚Äôs apartment in East Harlem on a winter day in 1980. ‚ÄúI remember discussing ‚ÄòThe Red Badge of Courage‚Äô with hi...   \n",
            "\n",
            "      category     news_source  \n",
            "0         fake       ISOT_Fake  \n",
            "0         TRUE         Reuters  \n",
            "1         fake       ISOT_Fake  \n",
            "2         TRUE         Reuters  \n",
            "3         TRUE         Reuters  \n",
            "...        ...             ...  \n",
            "32279     TRUE             NPR  \n",
            "32280     fake       ISOT_Fake  \n",
            "32281     fake       ISOT_Fake  \n",
            "32282     fake       ISOT_Fake  \n",
            "32283     TRUE  New York Times  \n",
            "\n",
            "[32285 rows x 3 columns]\n"
          ]
        }
      ]
    },
    {
      "cell_type": "markdown",
      "source": [
        "##Splitting dataset into train & test sets (80-20 split)"
      ],
      "metadata": {
        "id": "2-qJWqVfO1Ai"
      }
    },
    {
      "cell_type": "code",
      "source": [
        "X_train, X_test, Y_train, Y_test = train_test_split(df['text'],\n",
        "                                                    df['category'],\n",
        "                                                    test_size=0.2,\n",
        "                                                    random_state=42,\n",
        "                                                    stratify=df['category'])\n",
        "\n",
        "print('Size of Training Data ', X_train.shape[0])\n",
        "print('Size of Test Data ', X_test.shape[0])"
      ],
      "metadata": {
        "colab": {
          "base_uri": "https://localhost:8080/"
        },
        "id": "9jRiGW9cSWYK",
        "outputId": "0e34da8e-c97e-4e83-8d9f-375801b5772f"
      },
      "execution_count": null,
      "outputs": [
        {
          "output_type": "stream",
          "name": "stdout",
          "text": [
            "Size of Training Data  25828\n",
            "Size of Test Data  6457\n"
          ]
        }
      ]
    },
    {
      "cell_type": "markdown",
      "source": [
        "##Text vectorization\n",
        "\n",
        "We are vectorizing the text using the tf-idf vectorizer (which means that we want to make sure that words that appear very frequently and not frequently at all do not skew the model)"
      ],
      "metadata": {
        "id": "rMB2nJCCRhB9"
      }
    },
    {
      "cell_type": "code",
      "source": [
        "tfidf = TfidfVectorizer(min_df = 10, ngram_range=(1,2), stop_words=\"english\")\n",
        "X_train_tf = tfidf.fit_transform(X_train)"
      ],
      "metadata": {
        "id": "5V2LiwWoRjKH"
      },
      "execution_count": null,
      "outputs": []
    },
    {
      "cell_type": "markdown",
      "source": [
        "Then we're going to use \"support vectors\" to train a model. Linear SVM is a very popular text classification algorithm. In this model, the computers uses the relationships between vectors to create a line where there is the greatest separation between two classes. There may be more than one possible line. The algorithm chooses the line that provides the maximum separation between the closest points in two classes. Because the computer needs to know where to start its random process of evaluating vectors, we have to set a `random_state`. The tolerance level is how much room for error we are willing to live with. In this case, it is input in scientific notation, and a much simpler way of indicating 0.00001."
      ],
      "metadata": {
        "id": "aYx_w7jKSeqA"
      }
    },
    {
      "cell_type": "code",
      "source": [
        "# The output of the LinearSVC (Lindear Support Vector Classification) is a\n",
        "# model file, which is an object with multiple components. The model itself\n",
        "# isn't instructive or useful until we evaluate it and apply it to tasks.\n",
        "model1 = LinearSVC(random_state=0, tol=1e-5)\n",
        "model1.fit(X_train_tf, Y_train)"
      ],
      "metadata": {
        "colab": {
          "base_uri": "https://localhost:8080/",
          "height": 74
        },
        "id": "NnNdYWZySkTj",
        "outputId": "9f4b5172-088e-488c-d201-97ef85b641ed"
      },
      "execution_count": null,
      "outputs": [
        {
          "output_type": "execute_result",
          "data": {
            "text/plain": [
              "LinearSVC(random_state=0, tol=1e-05)"
            ],
            "text/html": [
              "<style>#sk-container-id-1 {color: black;background-color: white;}#sk-container-id-1 pre{padding: 0;}#sk-container-id-1 div.sk-toggleable {background-color: white;}#sk-container-id-1 label.sk-toggleable__label {cursor: pointer;display: block;width: 100%;margin-bottom: 0;padding: 0.3em;box-sizing: border-box;text-align: center;}#sk-container-id-1 label.sk-toggleable__label-arrow:before {content: \"▸\";float: left;margin-right: 0.25em;color: #696969;}#sk-container-id-1 label.sk-toggleable__label-arrow:hover:before {color: black;}#sk-container-id-1 div.sk-estimator:hover label.sk-toggleable__label-arrow:before {color: black;}#sk-container-id-1 div.sk-toggleable__content {max-height: 0;max-width: 0;overflow: hidden;text-align: left;background-color: #f0f8ff;}#sk-container-id-1 div.sk-toggleable__content pre {margin: 0.2em;color: black;border-radius: 0.25em;background-color: #f0f8ff;}#sk-container-id-1 input.sk-toggleable__control:checked~div.sk-toggleable__content {max-height: 200px;max-width: 100%;overflow: auto;}#sk-container-id-1 input.sk-toggleable__control:checked~label.sk-toggleable__label-arrow:before {content: \"▾\";}#sk-container-id-1 div.sk-estimator input.sk-toggleable__control:checked~label.sk-toggleable__label {background-color: #d4ebff;}#sk-container-id-1 div.sk-label input.sk-toggleable__control:checked~label.sk-toggleable__label {background-color: #d4ebff;}#sk-container-id-1 input.sk-hidden--visually {border: 0;clip: rect(1px 1px 1px 1px);clip: rect(1px, 1px, 1px, 1px);height: 1px;margin: -1px;overflow: hidden;padding: 0;position: absolute;width: 1px;}#sk-container-id-1 div.sk-estimator {font-family: monospace;background-color: #f0f8ff;border: 1px dotted black;border-radius: 0.25em;box-sizing: border-box;margin-bottom: 0.5em;}#sk-container-id-1 div.sk-estimator:hover {background-color: #d4ebff;}#sk-container-id-1 div.sk-parallel-item::after {content: \"\";width: 100%;border-bottom: 1px solid gray;flex-grow: 1;}#sk-container-id-1 div.sk-label:hover label.sk-toggleable__label {background-color: #d4ebff;}#sk-container-id-1 div.sk-serial::before {content: \"\";position: absolute;border-left: 1px solid gray;box-sizing: border-box;top: 0;bottom: 0;left: 50%;z-index: 0;}#sk-container-id-1 div.sk-serial {display: flex;flex-direction: column;align-items: center;background-color: white;padding-right: 0.2em;padding-left: 0.2em;position: relative;}#sk-container-id-1 div.sk-item {position: relative;z-index: 1;}#sk-container-id-1 div.sk-parallel {display: flex;align-items: stretch;justify-content: center;background-color: white;position: relative;}#sk-container-id-1 div.sk-item::before, #sk-container-id-1 div.sk-parallel-item::before {content: \"\";position: absolute;border-left: 1px solid gray;box-sizing: border-box;top: 0;bottom: 0;left: 50%;z-index: -1;}#sk-container-id-1 div.sk-parallel-item {display: flex;flex-direction: column;z-index: 1;position: relative;background-color: white;}#sk-container-id-1 div.sk-parallel-item:first-child::after {align-self: flex-end;width: 50%;}#sk-container-id-1 div.sk-parallel-item:last-child::after {align-self: flex-start;width: 50%;}#sk-container-id-1 div.sk-parallel-item:only-child::after {width: 0;}#sk-container-id-1 div.sk-dashed-wrapped {border: 1px dashed gray;margin: 0 0.4em 0.5em 0.4em;box-sizing: border-box;padding-bottom: 0.4em;background-color: white;}#sk-container-id-1 div.sk-label label {font-family: monospace;font-weight: bold;display: inline-block;line-height: 1.2em;}#sk-container-id-1 div.sk-label-container {text-align: center;}#sk-container-id-1 div.sk-container {/* jupyter's `normalize.less` sets `[hidden] { display: none; }` but bootstrap.min.css set `[hidden] { display: none !important; }` so we also need the `!important` here to be able to override the default hidden behavior on the sphinx rendered scikit-learn.org. See: https://github.com/scikit-learn/scikit-learn/issues/21755 */display: inline-block !important;position: relative;}#sk-container-id-1 div.sk-text-repr-fallback {display: none;}</style><div id=\"sk-container-id-1\" class=\"sk-top-container\"><div class=\"sk-text-repr-fallback\"><pre>LinearSVC(random_state=0, tol=1e-05)</pre><b>In a Jupyter environment, please rerun this cell to show the HTML representation or trust the notebook. <br />On GitHub, the HTML representation is unable to render, please try loading this page with nbviewer.org.</b></div><div class=\"sk-container\" hidden><div class=\"sk-item\"><div class=\"sk-estimator sk-toggleable\"><input class=\"sk-toggleable__control sk-hidden--visually\" id=\"sk-estimator-id-1\" type=\"checkbox\" checked><label for=\"sk-estimator-id-1\" class=\"sk-toggleable__label sk-toggleable__label-arrow\">LinearSVC</label><div class=\"sk-toggleable__content\"><pre>LinearSVC(random_state=0, tol=1e-05)</pre></div></div></div></div></div>"
            ]
          },
          "metadata": {},
          "execution_count": 16
        }
      ]
    },
    {
      "cell_type": "markdown",
      "source": [
        "##Model Evaluation"
      ],
      "metadata": {
        "id": "iIzweOYOSpBk"
      }
    },
    {
      "cell_type": "code",
      "source": [
        "# Now we want to take the test dataset and we're going to use it\n",
        "# to evaluate how accurately the model can predict whether text is\n",
        "# associated with a true or fake label or not. Notice we are skipping the fit\n",
        "# step and going straight to vectorizing. In other words, we are not\n",
        "# asking the model to learn new vocabulary.\n",
        "X_test_tf = tfidf.transform(X_test)"
      ],
      "metadata": {
        "id": "dlvrFlXeSvNd"
      },
      "execution_count": null,
      "outputs": []
    },
    {
      "cell_type": "code",
      "source": [
        "# We evaluate how well the model did by running the predict method on the X test\n",
        "# sample of data and then compare the predicted values to the actual labels.\n",
        "Y_pred = model1.predict(X_test_tf)\n",
        "print ('Accuracy Score - ', accuracy_score(Y_test, Y_pred))"
      ],
      "metadata": {
        "colab": {
          "base_uri": "https://localhost:8080/"
        },
        "id": "oxyuTOa2SxK-",
        "outputId": "904819b6-30ff-4c8c-c848-0933bf5e95e4"
      },
      "execution_count": null,
      "outputs": [
        {
          "output_type": "stream",
          "name": "stdout",
          "text": [
            "Accuracy Score -  0.9964379742914666\n"
          ]
        }
      ]
    },
    {
      "cell_type": "markdown",
      "source": [
        "### Results\n",
        "The accuracy score is a proportion and can be interpreted as a percentage. In other words, there's an X% likelihood that the model will be abe to predict whether or not the text is associated with a certain label. It's a good idea to consider whether or not the accuracy is more or less likely than other methods of estimating. For example, is it better than the odds of tossing a coin and getting it right? Or, could you roll a dice and get a better likelihood of the right answer?\n",
        "\n",
        "So, one way to do this is to compare the result to something more naive like the DummyClassifier, where the baseline model always predicts the class with the highest frequency or that is \"stratified\" which is to say it makes predictions based on the proportion of labels in the training dataset."
      ],
      "metadata": {
        "id": "9XnjdoLUS88x"
      }
    },
    {
      "cell_type": "code",
      "source": [
        "clf = DummyClassifier(strategy='most_frequent', random_state=42)\n",
        "clf.fit(X_train, Y_train)\n",
        "Y_pred_baseline = clf.predict(X_test)\n",
        "print ('Accuracy Score - ', accuracy_score(Y_test, Y_pred_baseline))"
      ],
      "metadata": {
        "colab": {
          "base_uri": "https://localhost:8080/",
          "height": 91
        },
        "id": "kk-WINyGS9pE",
        "outputId": "9c6f2d16-6817-405a-9e31-84790d378b88"
      },
      "execution_count": null,
      "outputs": [
        {
          "output_type": "execute_result",
          "data": {
            "text/plain": [
              "DummyClassifier(random_state=42, strategy='most_frequent')"
            ],
            "text/html": [
              "<style>#sk-container-id-2 {color: black;background-color: white;}#sk-container-id-2 pre{padding: 0;}#sk-container-id-2 div.sk-toggleable {background-color: white;}#sk-container-id-2 label.sk-toggleable__label {cursor: pointer;display: block;width: 100%;margin-bottom: 0;padding: 0.3em;box-sizing: border-box;text-align: center;}#sk-container-id-2 label.sk-toggleable__label-arrow:before {content: \"▸\";float: left;margin-right: 0.25em;color: #696969;}#sk-container-id-2 label.sk-toggleable__label-arrow:hover:before {color: black;}#sk-container-id-2 div.sk-estimator:hover label.sk-toggleable__label-arrow:before {color: black;}#sk-container-id-2 div.sk-toggleable__content {max-height: 0;max-width: 0;overflow: hidden;text-align: left;background-color: #f0f8ff;}#sk-container-id-2 div.sk-toggleable__content pre {margin: 0.2em;color: black;border-radius: 0.25em;background-color: #f0f8ff;}#sk-container-id-2 input.sk-toggleable__control:checked~div.sk-toggleable__content {max-height: 200px;max-width: 100%;overflow: auto;}#sk-container-id-2 input.sk-toggleable__control:checked~label.sk-toggleable__label-arrow:before {content: \"▾\";}#sk-container-id-2 div.sk-estimator input.sk-toggleable__control:checked~label.sk-toggleable__label {background-color: #d4ebff;}#sk-container-id-2 div.sk-label input.sk-toggleable__control:checked~label.sk-toggleable__label {background-color: #d4ebff;}#sk-container-id-2 input.sk-hidden--visually {border: 0;clip: rect(1px 1px 1px 1px);clip: rect(1px, 1px, 1px, 1px);height: 1px;margin: -1px;overflow: hidden;padding: 0;position: absolute;width: 1px;}#sk-container-id-2 div.sk-estimator {font-family: monospace;background-color: #f0f8ff;border: 1px dotted black;border-radius: 0.25em;box-sizing: border-box;margin-bottom: 0.5em;}#sk-container-id-2 div.sk-estimator:hover {background-color: #d4ebff;}#sk-container-id-2 div.sk-parallel-item::after {content: \"\";width: 100%;border-bottom: 1px solid gray;flex-grow: 1;}#sk-container-id-2 div.sk-label:hover label.sk-toggleable__label {background-color: #d4ebff;}#sk-container-id-2 div.sk-serial::before {content: \"\";position: absolute;border-left: 1px solid gray;box-sizing: border-box;top: 0;bottom: 0;left: 50%;z-index: 0;}#sk-container-id-2 div.sk-serial {display: flex;flex-direction: column;align-items: center;background-color: white;padding-right: 0.2em;padding-left: 0.2em;position: relative;}#sk-container-id-2 div.sk-item {position: relative;z-index: 1;}#sk-container-id-2 div.sk-parallel {display: flex;align-items: stretch;justify-content: center;background-color: white;position: relative;}#sk-container-id-2 div.sk-item::before, #sk-container-id-2 div.sk-parallel-item::before {content: \"\";position: absolute;border-left: 1px solid gray;box-sizing: border-box;top: 0;bottom: 0;left: 50%;z-index: -1;}#sk-container-id-2 div.sk-parallel-item {display: flex;flex-direction: column;z-index: 1;position: relative;background-color: white;}#sk-container-id-2 div.sk-parallel-item:first-child::after {align-self: flex-end;width: 50%;}#sk-container-id-2 div.sk-parallel-item:last-child::after {align-self: flex-start;width: 50%;}#sk-container-id-2 div.sk-parallel-item:only-child::after {width: 0;}#sk-container-id-2 div.sk-dashed-wrapped {border: 1px dashed gray;margin: 0 0.4em 0.5em 0.4em;box-sizing: border-box;padding-bottom: 0.4em;background-color: white;}#sk-container-id-2 div.sk-label label {font-family: monospace;font-weight: bold;display: inline-block;line-height: 1.2em;}#sk-container-id-2 div.sk-label-container {text-align: center;}#sk-container-id-2 div.sk-container {/* jupyter's `normalize.less` sets `[hidden] { display: none; }` but bootstrap.min.css set `[hidden] { display: none !important; }` so we also need the `!important` here to be able to override the default hidden behavior on the sphinx rendered scikit-learn.org. See: https://github.com/scikit-learn/scikit-learn/issues/21755 */display: inline-block !important;position: relative;}#sk-container-id-2 div.sk-text-repr-fallback {display: none;}</style><div id=\"sk-container-id-2\" class=\"sk-top-container\"><div class=\"sk-text-repr-fallback\"><pre>DummyClassifier(random_state=42, strategy=&#x27;most_frequent&#x27;)</pre><b>In a Jupyter environment, please rerun this cell to show the HTML representation or trust the notebook. <br />On GitHub, the HTML representation is unable to render, please try loading this page with nbviewer.org.</b></div><div class=\"sk-container\" hidden><div class=\"sk-item\"><div class=\"sk-estimator sk-toggleable\"><input class=\"sk-toggleable__control sk-hidden--visually\" id=\"sk-estimator-id-2\" type=\"checkbox\" checked><label for=\"sk-estimator-id-2\" class=\"sk-toggleable__label sk-toggleable__label-arrow\">DummyClassifier</label><div class=\"sk-toggleable__content\"><pre>DummyClassifier(random_state=42, strategy=&#x27;most_frequent&#x27;)</pre></div></div></div></div></div>"
            ]
          },
          "metadata": {},
          "execution_count": 19
        },
        {
          "output_type": "stream",
          "name": "stdout",
          "text": [
            "Accuracy Score -  0.5033297196840638\n"
          ]
        }
      ]
    },
    {
      "cell_type": "markdown",
      "source": [
        "The DummyClassifier provides an accuracy score of about 55% while our more complex trained model is 99% accurate. That is a significant different and does show that our model is in fact learning well from the dataset and not giving out simplified or at random predictions.\n",
        "\n",
        "However, to test things even further, we can build something called a *confusion matrix*. In a [confusion matrix](https://towardsdatascience.com/understanding-confusion-matrix-a9ad42dcfd62), we compare the actual values with the predicted values."
      ],
      "metadata": {
        "id": "yRRH9PwMTKYK"
      }
    },
    {
      "cell_type": "markdown",
      "source": [
        "### Precision and Recall\n",
        "What makes a confusion matrix useful is that we can use this matrix of numbers to measure the proportion of predicted positives that were actually positive, which is another measure of how accurate the predictions are.\n",
        "\n",
        "Precision is the number of times the model correctly predicts a variable to be in a category, divided by the total number of accurate predictions.\n",
        "\n",
        "Recall is the number of times that the model makes the right class assignment (true positive) divided by the number of times it is completely correct and completely incorrect (True positive + false negative)."
      ],
      "metadata": {
        "id": "rQxy4inwTU3A"
      }
    },
    {
      "cell_type": "code",
      "source": [
        "Y_pred = model1.predict(X_test_tf)\n",
        "confusion_matrix(Y_test, Y_pred)"
      ],
      "metadata": {
        "colab": {
          "base_uri": "https://localhost:8080/"
        },
        "id": "prJp5-HFTUPt",
        "outputId": "2a4178fc-9ec4-4e07-b32d-756c06e1fec4"
      },
      "execution_count": null,
      "outputs": [
        {
          "output_type": "execute_result",
          "data": {
            "text/plain": [
              "array([[3191,   16],\n",
              "       [   7, 3243]])"
            ]
          },
          "metadata": {},
          "execution_count": 20
        }
      ]
    },
    {
      "cell_type": "code",
      "source": [
        "cm = confusion_matrix(Y_test, Y_pred)\n",
        "disp = ConfusionMatrixDisplay(confusion_matrix=cm, display_labels = model1.classes_)\n",
        "disp.plot()\n",
        "plt.show()"
      ],
      "metadata": {
        "colab": {
          "base_uri": "https://localhost:8080/",
          "height": 413
        },
        "id": "do3sJznhT0t-",
        "outputId": "59a3a217-9cf1-4ca5-9455-ae46711a72cc"
      },
      "execution_count": null,
      "outputs": [
        {
          "output_type": "execute_result",
          "data": {
            "text/plain": [
              "<sklearn.metrics._plot.confusion_matrix.ConfusionMatrixDisplay at 0x7fe3c0c7d7e0>"
            ]
          },
          "metadata": {},
          "execution_count": 21
        },
        {
          "output_type": "display_data",
          "data": {
            "text/plain": [
              "<Figure size 800x400 with 2 Axes>"
            ],
            "image/png": "[encoded data removed]"
          },
          "metadata": {}
        }
      ]
    },
    {
      "cell_type": "code",
      "source": [
        "print(classification_report(Y_test, Y_pred))"
      ],
      "metadata": {
        "colab": {
          "base_uri": "https://localhost:8080/"
        },
        "id": "yNnueZ4MTlyU",
        "outputId": "f643de63-3eb8-4b8b-ba69-5ca7b8fa0665"
      },
      "execution_count": null,
      "outputs": [
        {
          "output_type": "stream",
          "name": "stdout",
          "text": [
            "              precision    recall  f1-score   support\n",
            "\n",
            "        TRUE       1.00      1.00      1.00      3207\n",
            "        fake       1.00      1.00      1.00      3250\n",
            "\n",
            "    accuracy                           1.00      6457\n",
            "   macro avg       1.00      1.00      1.00      6457\n",
            "weighted avg       1.00      1.00      1.00      6457\n",
            "\n"
          ]
        }
      ]
    },
    {
      "cell_type": "markdown",
      "source": [
        "# Cross-Validation (wasn’t able to carry out because of computational power needed)\n",
        "\n",
        "One way to test whether or not the results are an artifact of the random selection of data and the shuffling of data order could be to set a new `random_state` which would shuffle the data and could result in a different accuracy outcome. We won't know until we try.\n",
        "\n",
        "Cross-validation is when we train a model on different splits of the data and validate on different splits of data so that the model achieves a balance between *underfitting* and *overfitting*. Underfitting happens when the  model is complex and has fit the underlying pattern well during training but produces significant deviations during the testing phase. In this case, the model has been trained too narrowly on the data and doesn't do a good job of generalizing on new data.\n",
        "\n",
        "We can build cross-validation into the classification pipeline using something called K-fold validation. This is a formula, essentially, for selecting different cross sections of data and then returning validation scores for each \"fold\" or iteration of the split."
      ],
      "metadata": {
        "id": "kbX14eyeUaLF"
      }
    },
    {
      "cell_type": "code",
      "source": [
        "# Vectorization\n",
        "\n",
        "#tfidf = TfidfVectorizer(min_df = 10, ngram_range=(1,2), stop_words=\"english\")\n",
        "#df_tf = tfidf.fit_transform(df['combined_text']).toarray()\n",
        "\n",
        "# Cross Validation with 5 folds\n",
        "\n",
        "#scores = cross_val_score(estimator=model1,\n",
        "                         #X=df_tf,\n",
        "                        # y=df['category'],\n",
        "                        # cv=5)\n",
        "\n",
        "#print (\"Validation scores from each iteration of the cross validation \", scores)\n",
        "#print (\"Mean value across of validation scores \", scores.mean())\n",
        "#print (\"Standard deviation of validation scores \", scores.std())"
      ],
      "metadata": {
        "id": "OTF8Ju2sUgk7"
      },
      "execution_count": null,
      "outputs": []
    },
    {
      "cell_type": "markdown",
      "source": [
        "#Testing code further with a Comparison Dataset"
      ],
      "metadata": {
        "id": "_0X92AVXjSOg"
      }
    },
    {
      "cell_type": "code",
      "source": [
        "import pandas as pd\n",
        "from sklearn.metrics import classification_report, accuracy_score"
      ],
      "metadata": {
        "id": "N4NUYwWH6ySQ"
      },
      "execution_count": null,
      "outputs": []
    },
    {
      "cell_type": "code",
      "source": [
        "from google.colab import drive\n",
        "\n",
        "# Mount Google Drive\n",
        "drive.mount('/content/drive')"
      ],
      "metadata": {
        "colab": {
          "base_uri": "https://localhost:8080/"
        },
        "id": "LLNTJTGv7K_D",
        "outputId": "d19b040a-4820-43f8-e8cd-fc2577389b1c"
      },
      "execution_count": null,
      "outputs": [
        {
          "output_type": "stream",
          "name": "stdout",
          "text": [
            "Drive already mounted at /content/drive; to attempt to forcibly remount, call drive.mount(\"/content/drive\", force_remount=True).\n"
          ]
        }
      ]
    },
    {
      "cell_type": "code",
      "source": [
        "# Path to the CSV file on Google Drive\n",
        "file_path = '/content/drive/MyDrive/Data71200/CapstoneDatasets/ComparisonDataset.csv'\n",
        "\n",
        "# Read the CSV file into a DataFrame\n",
        "test_df = pd.read_csv(file_path)\n",
        "\n",
        "# Print column names\n",
        "print(test_df.columns)\n",
        "\n",
        "# Select specific columns from the DataFrame\n",
        "selected_columns = ['text', 'category']\n",
        "selected_data = test_df[selected_columns].sample(2, random_state=42)\n",
        "\n",
        "# Print the selected data\n",
        "print(selected_data)\n"
      ],
      "metadata": {
        "colab": {
          "base_uri": "https://localhost:8080/"
        },
        "id": "I5MJL7td631M",
        "outputId": "f5fd99d9-f383-4076-cdf4-3b5f6e37b339"
      },
      "execution_count": null,
      "outputs": [
        {
          "output_type": "stream",
          "name": "stdout",
          "text": [
            "Index(['text', 'category', 'news_source'], dtype='object')\n",
            "                                                                                                                                                                                                         text  \\\n",
            "1611  I try to be frugal. But my instincts as a consumer are mistaken. Behavioral economics suggests that I‚Äôm often frugal in the wrong way and that you may be, too. Consider this situation: You‚Äôre ...   \n",
            "1403  For the last 10 years, life in the northern Bronx has largely been defined by wanton violence perpetuated by the growing reach and competing interests of rival street gangs. Drugs were openly sold...   \n",
            "\n",
            "     category  \n",
            "1611     TRUE  \n",
            "1403     TRUE  \n"
          ]
        }
      ]
    },
    {
      "cell_type": "code",
      "source": [
        "test_df.dropna(subset=['text', 'category'], inplace=True)"
      ],
      "metadata": {
        "id": "U8gHk5ve-TAj"
      },
      "execution_count": null,
      "outputs": []
    },
    {
      "cell_type": "code",
      "source": [
        "from blueprints.preparation import clean\n",
        "test_df['cleaned_text'] = test_df['text'].apply(clean)"
      ],
      "metadata": {
        "id": "pOjhXt267R8S"
      },
      "execution_count": null,
      "outputs": []
    },
    {
      "cell_type": "code",
      "source": [
        "text_vector = tfidf.transform(test_df['cleaned_text'])\n",
        "predictions = model1.predict(text_vector)\n"
      ],
      "metadata": {
        "id": "Cd5eekaI78Wf"
      },
      "execution_count": null,
      "outputs": []
    },
    {
      "cell_type": "code",
      "source": [
        "print(\"Accuracy:\", accuracy_score(test_df['category'], predictions))\n",
        "print(\"Classification Report:\")\n",
        "print(classification_report(test_df['category'], predictions))\n"
      ],
      "metadata": {
        "colab": {
          "base_uri": "https://localhost:8080/"
        },
        "id": "Wegzcssk8qei",
        "outputId": "a9ca92ee-cdf8-4211-cfdf-bb111e1cce62"
      },
      "execution_count": null,
      "outputs": [
        {
          "output_type": "stream",
          "name": "stdout",
          "text": [
            "Accuracy: 0.9938208032955715\n",
            "Classification Report:\n",
            "              precision    recall  f1-score   support\n",
            "\n",
            "        TRUE       1.00      0.99      0.99       942\n",
            "        fake       0.99      1.00      0.99      1000\n",
            "\n",
            "    accuracy                           0.99      1942\n",
            "   macro avg       0.99      0.99      0.99      1942\n",
            "weighted avg       0.99      0.99      0.99      1942\n",
            "\n"
          ]
        }
      ]
    },
    {
      "cell_type": "markdown",
      "source": [
        "#FURTHER TEST ON A DIFFERENT DATASET"
      ],
      "metadata": {
        "id": "JyNisTR4Dz0p"
      }
    },
    {
      "cell_type": "code",
      "source": [],
      "metadata": {
        "id": "5OYBq8r0EKkF"
      },
      "execution_count": null,
      "outputs": []
    },
    {
      "cell_type": "code",
      "source": [
        "# Path to the CSV file on Google Drive\n",
        "file_path = '/content/drive/MyDrive/Data71200/CapstoneDatasets/WELFakeData.csv'\n",
        "\n",
        "# Read the CSV file into a DataFrame\n",
        "test_df = pd.read_csv(file_path)\n",
        "\n",
        "# Print column names\n",
        "print(test_df.columns)\n",
        "\n",
        "# Select specific columns from the DataFrame\n",
        "selected_columns = ['text', 'category']\n",
        "selected_data = test_df[selected_columns].sample(2, random_state=42)\n",
        "\n",
        "# Print the selected data\n",
        "print(selected_data)\n"
      ],
      "metadata": {
        "colab": {
          "base_uri": "https://localhost:8080/"
        },
        "id": "eJhmTxw_D0Nf",
        "outputId": "9517c702-0ec8-4e1c-8086-2fbd09b6d97c"
      },
      "execution_count": null,
      "outputs": [
        {
          "output_type": "stream",
          "name": "stdout",
          "text": [
            "Index(['text', 'category'], dtype='object')\n",
            "                                                                                                                                                                                                          text  \\\n",
            "41731  November 25, 2016 - Fort Russ News -  RusVesna - translated by J. Arnoldski -  \\n\\n\\n\\nThe Syrian Army is breaking through the defenses of terrorist gangs in eastern Aleppo and new neighborhoods h...   \n",
            "55688  The speaker-elect walked down the center aisle Thursday morning, accepting hugs, kisses, handshakes and applause. Then he did something unexpected: He turned left.\\n\\nPaul Ryan, the young Wisconsi...   \n",
            "\n",
            "      category  \n",
            "41731     TRUE  \n",
            "55688     fake  \n"
          ]
        }
      ]
    },
    {
      "cell_type": "code",
      "source": [
        "test_df.dropna(subset=['text', 'category'], inplace=True)\n",
        "\n",
        "# Filter the DataFrame to include only the rows where 'category' is 'fake' or 'TRUE'\n",
        "filtered_df = df[df['category'].isin(['fake', 'TRUE'])]"
      ],
      "metadata": {
        "id": "Nbn1JQ9FD4l2"
      },
      "execution_count": null,
      "outputs": []
    },
    {
      "cell_type": "code",
      "source": [
        "from blueprints.preparation import clean\n",
        "test_df['cleaned_text'] = test_df['text'].apply(clean)"
      ],
      "metadata": {
        "id": "doz8KKDcD5jg"
      },
      "execution_count": null,
      "outputs": []
    },
    {
      "cell_type": "code",
      "source": [
        "text_vector = tfidf.transform(test_df['cleaned_text'])\n",
        "predictions = model1.predict(text_vector)\n"
      ],
      "metadata": {
        "id": "8kQUq400D6oP"
      },
      "execution_count": null,
      "outputs": []
    },
    {
      "cell_type": "code",
      "source": [
        "print(\"Accuracy:\", accuracy_score(test_df['category'], predictions))\n",
        "print(\"Classification Report:\")\n",
        "print(classification_report(test_df['category'], predictions))\n"
      ],
      "metadata": {
        "colab": {
          "base_uri": "https://localhost:8080/"
        },
        "id": "4HeIT35UD7qV",
        "outputId": "027a1a04-d71f-47df-b425-4e6406de808d"
      },
      "execution_count": null,
      "outputs": [
        {
          "output_type": "stream",
          "name": "stdout",
          "text": [
            "Accuracy: 0.1267693675422634\n",
            "Classification Report:\n",
            "                                                                                                                                                                                                                                                                                                                                                                                                                                                                                                                                                                                                                                                                                                                                                                                                                                                                                                                                                                                                                                                                                                                   precision    recall  f1-score   support\n",
            "\n",
            "I pay for it and the taxes that go with it. I do have to pay some money to doctor and pills but not lot I agree. But living like this means you are my entertainment. I bake my own bread and clean my house from chair. Also my clothes are second hand. Goodwill have lots of visit from people now days. I get sick of this idea that poor pay no taxes. What bill do get that does not some kind of tax on it. Anyone useing those same service have to pay them as well. Are they has much as yours? no. but they all so have less. Less to have fun on less to go out on and less to buy lots food with. Live on $5fake see how far that take you. The rest comes for that monthly check I so lovely dream about every month sitting on my sofa. Till you be there you have no idea what like to live it. Not the pain I live with or problem that come with living. I look forward with fear as I watch the state and Federal government talks about things they need to cut so they can give people who live fancy house more money and want to vote for man for President who has bank account in places       0.00      0.00      0.00         1\n",
            "                                                                                                                                                                                                                                                                                                                                                                                                                                                                                                                                                                                                                                                                                                                                                                                                                                                                                                                                                                                                                                                                                                           Mexico       0.00      0.00      0.00         1\n",
            "                                                                                                                                                                                                                                                                                                                                                                                                                                                                                                                                                                                                                                                                                                                                                                                                                                                                                                                                                                                                                                                                                                             TRUE       0.16      0.17      0.17     36979\n",
            "                                                                                                                                                                                                                                                                                                                                                                                                                                                                                                                                                                                                                                                                                                                                                                                                                                                                                                                                                                                                                                                       TRUE33.5 (MT; US gold reserves) x TRUEfakefakefake kg x 32       0.00      0.00      0.00         2\n",
            "                                                                                                                                                                                                                                                                                                                                                                                                                                                                                                                                                                                                                                                                                                                                                                                                                                                                                                                                                                                                                                                                                                       TRUE92fake       0.00      0.00      0.00         2\n",
            "                                                                                                                                                                                                                                                                                                                                                                                                                                                                                                                                                                                                                                                                                                                                                                                                                                                                                                                                                                                                                                                                                                          TRUE947       0.00      0.00      0.00         2\n",
            "                                                                                                                                                                                                                                                                                                                                                                                                                                                                                                                                                                                                                                                                                                                                                                                                                                                                                                                                                                                                                                                                                                       TRUE9TRUE7       0.00      0.00      0.00         2\n",
            "                                                                                                                                                                                                                                                                                                                                                                                                                                                                                                                                                                                                                                                                                                                                                                                                                                                                                                                                                                                                                                                                                                             fake       0.09      0.08      0.08     34975\n",
            "                                                                                                                                                                                                                                                                                                                                                                                                                                                                                                                                                                                                                                                                                                                                                                                                                                                                                                                                                                                                                                                                                                     fakefakefake       0.00      0.00      0.00         1\n",
            "                                                                                                                                                                                                                                                                                                                                                                                                                                                                                                                                                                                                                                                                                                                                                                                                                                                                                                                                                                                                                                                                         fakefakefake /TRUE2 = $29TRUE6 a month.        0.00      0.00      0.00         1\n",
            "                                                                                                                                                                                                                                                                                                                                                                                                                                                                                                                                                                                                                                                                                                                                                                                                                                                                                                                                                                                                                                        fakefakefake Palestinians. Therefore it was necessary to uproot them.‚Äù        0.00      0.00      0.00         2\n",
            "                                                                                                                                                                                                                                                                                                                                                                                                                                                                                                                                                                                                                                                                                                                                                                                                                                                                                                                                                                                                                                                                      fakefakefake acres. We have lakes with fish       0.00      0.00      0.00         1\n",
            "                                                                                                                                                                                                                                                                                                                                                                                                                                                                                                                                                                                                                                                                                                                                                                                                                                                                                                                                                                                                                                                              fakefakefake contribution Kaepernick made edslides        0.00      0.00      0.00         1\n",
            "                                                                                                                                                                                                                                                                                                                                                                                                                                                                                                                                                                                                                                                                                                                                                                                                                                                                                                                                                                                                                                                  fakefakefake on EIC. She also gets section 8 housing assistance       0.00      0.00      0.00         1\n",
            "                                                                                                                                                                                                                                                                                                                                                                                                                                                                                                                                                                                                                                                                                                                                                                                                                                                                                                                                                                                                                            fakefakefake or looking at it another way 99.99964% are staying. How many of the TRUE       0.00      0.00      0.00         2\n",
            "                                                                                                                                                                                                                                                                                                                                                                                                                                                                                                                                                                                                                                                                                                                                                                                                                                                                                                                                      fakefakefake people in California has been talking about consolidating in Texas out of California in five years. I am thinking the plans might move quicker than five years       0.00      0.00      0.00         1\n",
            "                                                                                                                                                                                                                                                                                                                                                                                                                                                                                                                                                                                                                                                                                                                                                                                                                                                                                                    fakefakefake per offence. And THAT is why there is a huge increase in Americans giving up there citizenship. And the US response to this phenomenon? Increase the basic consular fee from $35fake to $245fake       0.00      0.00      0.00         2\n",
            "                                                                                                                                                                                                                                                                                                                                                                                                                                                                                                                                                                                                                                                                                                                                                                                                                                                                                                                                                                                                                           fakefakefake per year salary alone and spend most of their time in meetings. Tom Lowe        0.00      0.00      0.00         1\n",
            "                                                                                                                                                                                                                                                                                                                                                                                                                                                                                                                                                                                                                                                                                                                                                                                                                                                                                                                                                                                                                 fakefakefake troops in Vietnam and the Gulf of Tonkin incident had allegedly happened. And I was       0.00      0.00      0.00         1\n",
            "                                                                                                                                                                                                                                                                                                                                                                                                                                                                                                                                                                                                                                                                                                                                                                                                                                                                                                                                                                                                                                                                          fakefakefake years. All fiat currencies       0.00      0.00      0.00         2\n",
            "                                                                                                                                                                                                                                                                                                                                                                                                                                                                                                                                                                                                                                                                                                                                                                                                                                                                                                                                                                                                                                                                                               fakefakefake-5fake       0.00      0.00      0.00         1\n",
            "                                                                                                                                                                                                                                                                                                                                                                                                                                                                                                                                                                                                                                                                                                                                                                                                                                                                                                                                                                                                                        fakefakefake/month while on welfare compared to the $8fakefake/month working at Walmart.        0.00      0.00      0.00         1\n",
            "                                                                                                                                                                                                                                                                                                                                                                                                                                                                                                                                                                                                                                                                                                                                                                                                                                                                             fakefakefakek per month without any headaches or expense. Its why Pelosi is hell bent on taking out coal and limiting other energy sources. This no expense. profit system has been around for about TRUEfakefake years. NoFoolHere        0.00      0.00      0.00         1\n",
            "                                                                                                                                                                                                                                                                                                                                                                                                                                                                                                                                                                                                                                                                                                                                                                                                                                                                                                                                                                                                                                                                                             fakefakefake‚Ä¶ well       0.00      0.00      0.00         2\n",
            "                                                                                                                                                                                                                                                                                                                                                                                                                                                                                                                                                                                                                                                                                                                                                                                                                                                                                                                                                                                                                                                          gay and now transgender cards and afraid to be offended       0.00      0.00      0.00         1\n",
            "                                                                                                                                                                                                                                                                                                                                                                                                                                                                                                                                                                                                                                                                                                                                                                                                                                                                                                                                                                                                                           i know about it taking four to five yr. it didnt stop those bums i know that are on it       0.00      0.00      0.00         1\n",
            "                                                                                                                                                                                                                                                                                                                                                                                                                                                                                                                                                                                                                                                                                                                                                                                                                                                                                                                                                                                                                                                                                 it‚Äôs to die for satin857TRUE8        0.00      0.00      0.00         1\n",
            "                                                                                                                                                                                                                                                                                                                                                                                                                                                                                                                                                                                                                                                                                                                     would be the deepest & most guarded secret until after it happened! This is like a widely advertised Hollywood stunt to generate activity for some new movie. Just imagine Hitler telling the world what he intended a week before he invaded Poland. Imagine the Japanese government in TRUE94TRUE telling the world that Japan we was going to attack Pearl Harbor on Dec.7 of that year!        0.00      0.00      0.00         1\n",
            "\n",
            "                                                                                                                                                                                                                                                                                                                                                                                                                                                                                                                                                                                                                                                                                                                                                                                                                                                                                                                                                                                                                                                                                                         accuracy                           0.13     71989\n",
            "                                                                                                                                                                                                                                                                                                                                                                                                                                                                                                                                                                                                                                                                                                                                                                                                                                                                                                                                                                                                                                                                                                        macro avg       0.01      0.01      0.01     71989\n",
            "                                                                                                                                                                                                                                                                                                                                                                                                                                                                                                                                                                                                                                                                                                                                                                                                                                                                                                                                                                                                                                                                                                     weighted avg       0.13      0.13      0.13     71989\n",
            "\n"
          ]
        }
      ]
    }
  ]
}